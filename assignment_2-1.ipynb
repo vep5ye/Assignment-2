{
 "cells": [
  {
   "cell_type": "markdown",
   "id": "87b91d83",
   "metadata": {},
   "source": [
    "# Assignment 2\n",
    "### Understanding Uncertainty\n",
    "### Due 9/12"
   ]
  },
  {
   "cell_type": "markdown",
   "id": "380e339f",
   "metadata": {},
   "source": [
    "1. 'State Bottle Retail' is the price at which the bottle is sold, while 'State Bottle Cost' is the price the state pays for a bottle.\n",
    "- How do you define the most profitable item? Why? Explain your thinking.\n",
    "- Use `.groupby` calculations to determine the most profitable liquors sold in Iowa.\n",
    "- Make a plot of the top liquors."
   ]
  },
  {
   "cell_type": "markdown",
   "id": "168463be",
   "metadata": {},
   "source": [
    "I define most profitable item by subtracting State Bottle Cost from State Bottle Retail (Revenue - Cost of Goods Sold (COGS) = Profit). Therefore, whichever bottle has the highest total profit would be the most profitable. Arguably, most profitable could be calculated by volume of sales as well. However, with a bit of research, I found that this approach is less common."
   ]
  },
  {
   "cell_type": "code",
   "execution_count": 13,
   "id": "bf07dfe7",
   "metadata": {},
   "outputs": [
    {
     "data": {
      "text/html": [
       "<style type=\"text/css\">\n",
       "</style>\n",
       "<table id=\"T_8a7bb\">\n",
       "  <thead>\n",
       "    <tr>\n",
       "      <th class=\"blank level0\" >&nbsp;</th>\n",
       "      <th id=\"T_8a7bb_level0_col0\" class=\"col_heading level0 col0\" >bottles_sold</th>\n",
       "      <th id=\"T_8a7bb_level0_col1\" class=\"col_heading level0 col1\" >avg_profit_per_unit</th>\n",
       "      <th id=\"T_8a7bb_level0_col2\" class=\"col_heading level0 col2\" >total_profit</th>\n",
       "    </tr>\n",
       "    <tr>\n",
       "      <th class=\"index_name level0\" >Item Description</th>\n",
       "      <th class=\"blank col0\" >&nbsp;</th>\n",
       "      <th class=\"blank col1\" >&nbsp;</th>\n",
       "      <th class=\"blank col2\" >&nbsp;</th>\n",
       "    </tr>\n",
       "  </thead>\n",
       "  <tbody>\n",
       "    <tr>\n",
       "      <th id=\"T_8a7bb_level0_row0\" class=\"row_heading level0 row0\" >TITOS HANDMADE VODKA</th>\n",
       "      <td id=\"T_8a7bb_row0_col0\" class=\"data row0 col0\" >57,263</td>\n",
       "      <td id=\"T_8a7bb_row0_col1\" class=\"data row0 col1\" >$5.97</td>\n",
       "      <td id=\"T_8a7bb_row0_col2\" class=\"data row0 col2\" >$364,074</td>\n",
       "    </tr>\n",
       "    <tr>\n",
       "      <th id=\"T_8a7bb_level0_row1\" class=\"row_heading level0 row1\" >BLACK VELVET</th>\n",
       "      <td id=\"T_8a7bb_row1_col0\" class=\"data row1 col0\" >76,184</td>\n",
       "      <td id=\"T_8a7bb_row1_col1\" class=\"data row1 col1\" >$3.43</td>\n",
       "      <td id=\"T_8a7bb_row1_col2\" class=\"data row1 col2\" >$274,677</td>\n",
       "    </tr>\n",
       "    <tr>\n",
       "      <th id=\"T_8a7bb_level0_row2\" class=\"row_heading level0 row2\" >FIREBALL CINNAMON WHISKEY</th>\n",
       "      <td id=\"T_8a7bb_row2_col0\" class=\"data row2 col0\" >97,308</td>\n",
       "      <td id=\"T_8a7bb_row2_col1\" class=\"data row2 col1\" >$3.75</td>\n",
       "      <td id=\"T_8a7bb_row2_col2\" class=\"data row2 col2\" >$187,535</td>\n",
       "    </tr>\n",
       "    <tr>\n",
       "      <th id=\"T_8a7bb_level0_row3\" class=\"row_heading level0 row3\" >CROWN ROYAL</th>\n",
       "      <td id=\"T_8a7bb_row3_col0\" class=\"data row3 col0\" >19,817</td>\n",
       "      <td id=\"T_8a7bb_row3_col1\" class=\"data row3 col1\" >$8.31</td>\n",
       "      <td id=\"T_8a7bb_row3_col2\" class=\"data row3 col2\" >$160,982</td>\n",
       "    </tr>\n",
       "    <tr>\n",
       "      <th id=\"T_8a7bb_level0_row4\" class=\"row_heading level0 row4\" >CROWN ROYAL REGAL APPLE</th>\n",
       "      <td id=\"T_8a7bb_row4_col0\" class=\"data row4 col0\" >16,250</td>\n",
       "      <td id=\"T_8a7bb_row4_col1\" class=\"data row4 col1\" >$7.88</td>\n",
       "      <td id=\"T_8a7bb_row4_col2\" class=\"data row4 col2\" >$122,880</td>\n",
       "    </tr>\n",
       "    <tr>\n",
       "      <th id=\"T_8a7bb_level0_row5\" class=\"row_heading level0 row5\" >CAPTAIN MORGAN SPICED RUM</th>\n",
       "      <td id=\"T_8a7bb_row5_col0\" class=\"data row5 col0\" >20,822</td>\n",
       "      <td id=\"T_8a7bb_row5_col1\" class=\"data row5 col1\" >$5.91</td>\n",
       "      <td id=\"T_8a7bb_row5_col2\" class=\"data row5 col2\" >$121,115</td>\n",
       "    </tr>\n",
       "    <tr>\n",
       "      <th id=\"T_8a7bb_level0_row6\" class=\"row_heading level0 row6\" >HAWKEYE VODKA</th>\n",
       "      <td id=\"T_8a7bb_row6_col0\" class=\"data row6 col0\" >53,675</td>\n",
       "      <td id=\"T_8a7bb_row6_col1\" class=\"data row6 col1\" >$2.36</td>\n",
       "      <td id=\"T_8a7bb_row6_col2\" class=\"data row6 col2\" >$116,375</td>\n",
       "    </tr>\n",
       "    <tr>\n",
       "      <th id=\"T_8a7bb_level0_row7\" class=\"row_heading level0 row7\" >CAPTAIN MORGAN ORIGINAL SPICED</th>\n",
       "      <td id=\"T_8a7bb_row7_col0\" class=\"data row7 col0\" >22,750</td>\n",
       "      <td id=\"T_8a7bb_row7_col1\" class=\"data row7 col1\" >$4.92</td>\n",
       "      <td id=\"T_8a7bb_row7_col2\" class=\"data row7 col2\" >$112,147</td>\n",
       "    </tr>\n",
       "    <tr>\n",
       "      <th id=\"T_8a7bb_level0_row8\" class=\"row_heading level0 row8\" >JACK DANIELS OLD #7 BLACK LABEL</th>\n",
       "      <td id=\"T_8a7bb_row8_col0\" class=\"data row8 col0\" >12,592</td>\n",
       "      <td id=\"T_8a7bb_row8_col1\" class=\"data row8 col1\" >$9.20</td>\n",
       "      <td id=\"T_8a7bb_row8_col2\" class=\"data row8 col2\" >$111,509</td>\n",
       "    </tr>\n",
       "    <tr>\n",
       "      <th id=\"T_8a7bb_level0_row9\" class=\"row_heading level0 row9\" >HENNESSY VS</th>\n",
       "      <td id=\"T_8a7bb_row9_col0\" class=\"data row9 col0\" >18,855</td>\n",
       "      <td id=\"T_8a7bb_row9_col1\" class=\"data row9 col1\" >$6.52</td>\n",
       "      <td id=\"T_8a7bb_row9_col2\" class=\"data row9 col2\" >$108,459</td>\n",
       "    </tr>\n",
       "  </tbody>\n",
       "</table>\n"
      ],
      "text/plain": [
       "<pandas.io.formats.style.Styler at 0x171268cd0>"
      ]
     },
     "metadata": {},
     "output_type": "display_data"
    },
    {
     "data": {
      "image/png": "[encoded data removed]",
      "text/plain": [
       "<Figure size 800x500 with 1 Axes>"
      ]
     },
     "metadata": {},
     "output_type": "display_data"
    }
   ],
   "source": [
    "import pandas as pd\n",
    "import numpy as np\n",
    "import matplotlib.pyplot as plt\n",
    "\n",
    "# Load data\n",
    "df = pd.read_csv(\"iowa.csv\")\n",
    "\n",
    "# CLean data\n",
    "for col in [\"State Bottle Retail\", \"State Bottle Cost\", \"Bottles Sold\"]:\n",
    "    if col in df.columns:\n",
    "        df[col] = (\n",
    "            df[col]\n",
    "            .astype(str)\n",
    "            .str.replace(\"$\", \"\", regex=False)\n",
    "            .str.replace(\",\", \"\", regex=False)\n",
    "        )\n",
    "        df[col] = pd.to_numeric(df[col], errors=\"coerce\")\n",
    "\n",
    "# Define profit metrics\n",
    "df[\"profit_per_unit\"] = df[\"State Bottle Retail\"] - df[\"State Bottle Cost\"]\n",
    "df[\"total_profit\"] = df[\"profit_per_unit\"] * df[\"Bottles Sold\"]\n",
    "\n",
    "\n",
    "group_key = \"Item Description\" if \"Item Description\" in df.columns else \"Item Number\"\n",
    "\n",
    "# Group and aggregate\n",
    "grouped = (\n",
    "    df.groupby(group_key, dropna=True)\n",
    "      .agg(\n",
    "          bottles_sold=(\"Bottles Sold\", \"sum\"),\n",
    "          avg_profit_per_unit=(\"profit_per_unit\", \"mean\"),\n",
    "          total_profit=(\"total_profit\", \"sum\")\n",
    "      )\n",
    "      .sort_values(\"total_profit\", ascending=False)\n",
    ")\n",
    "\n",
    "# Display top liquors by total profit\n",
    "top_n = 10\n",
    "top = grouped.head(top_n)\n",
    "display(top.style.format({\n",
    "    \"bottles_sold\": \"{:,.0f}\",\n",
    "    \"avg_profit_per_unit\": \"${:,.2f}\",\n",
    "    \"total_profit\": \"${:,.0f}\"\n",
    "}))\n",
    "\n",
    "# Visualization\n",
    "plt.figure(figsize=(8, 5))\n",
    "top[\"total_profit\"].sort_values().plot(kind=\"barh\")\n",
    "plt.xlabel(\"Total Profit (USD)\")\n",
    "plt.ylabel(\"Liquor\")\n",
    "plt.title(f\"Top {top_n} Most Profitable Liquors (by Total Profit)\")\n",
    "plt.tight_layout()\n",
    "plt.show()\n"
   ]
  },
  {
   "cell_type": "markdown",
   "id": "63593bde",
   "metadata": {},
   "source": [
    "2. This question is to further explore broadcasting in NumPy.\n",
    "\n",
    "- In the first code chunk below, there are two vectors, $x$ and $y$. What happens when you try to subtract them?\n",
    "- Instead, try `x.reshape(-1,1)-y.reshape(-1,1)`. What do you get?\n",
    "- Try `x.reshape(1,-1)-y.reshape(1,-1)`. Compare the results to your previous answer.\n",
    "- Write two double for-loops to replicate the results of the previous two answers. \n",
    "- Clearly explain how `x.reshape(1,-1)` and `x.reshape(-1,1)` change $x$"
   ]
  },
  {
   "cell_type": "markdown",
   "id": "26930d11",
   "metadata": {},
   "source": [
    "When I try to subtract the two vectors, I receive a ValueError: operands could not be broadcast together with shapes (3,) (2,). When I try x.reshape(-1,1)-y.reshape(-1,1), I get ValueError: operands could not be broadcast together with shapes (3,1) (2,1). When I try x.reshape(1,-1)-y.reshape(1,-1), I get ValueError: operands could not be broadcast together with shapes (1,3) (1,2). However, reshapin to a column and a row does work: x.reshape(-1,1) - y.reshape(1,-1) broadcasts to shape (len(x), len(y)), producing the full pairwise (outer) difference matrix where entry (i,j) equals x[i] - y[j]."
   ]
  },
  {
   "cell_type": "code",
   "execution_count": 18,
   "id": "e29b3aac",
   "metadata": {},
   "outputs": [
    {
     "ename": "ValueError",
     "evalue": "operands could not be broadcast together with shapes (3,) (2,) ",
     "output_type": "error",
     "traceback": [
      "\u001b[0;31m---------------------------------------------------------------------------\u001b[0m",
      "\u001b[0;31mValueError\u001b[0m                                Traceback (most recent call last)",
      "Cell \u001b[0;32mIn[18], line 6\u001b[0m\n\u001b[1;32m      3\u001b[0m x \u001b[38;5;241m=\u001b[39m np\u001b[38;5;241m.\u001b[39marray([\u001b[38;5;241m1\u001b[39m,\u001b[38;5;241m3\u001b[39m,\u001b[38;5;241m5\u001b[39m])\n\u001b[1;32m      4\u001b[0m y \u001b[38;5;241m=\u001b[39m np\u001b[38;5;241m.\u001b[39marray([\u001b[38;5;241m2\u001b[39m,\u001b[38;5;241m5\u001b[39m])\n\u001b[0;32m----> 6\u001b[0m x\u001b[38;5;241m-\u001b[39my\n",
      "\u001b[0;31mValueError\u001b[0m: operands could not be broadcast together with shapes (3,) (2,) "
     ]
    }
   ],
   "source": [
    "import numpy as np\n",
    "\n",
    "x = np.array([1,3,5])\n",
    "y = np.array([2,5])\n",
    "\n",
    "x-y"
   ]
  },
  {
   "cell_type": "code",
   "execution_count": 19,
   "id": "e9458938",
   "metadata": {},
   "outputs": [
    {
     "ename": "ValueError",
     "evalue": "operands could not be broadcast together with shapes (3,1) (2,1) ",
     "output_type": "error",
     "traceback": [
      "\u001b[0;31m---------------------------------------------------------------------------\u001b[0m",
      "\u001b[0;31mValueError\u001b[0m                                Traceback (most recent call last)",
      "Cell \u001b[0;32mIn[19], line 1\u001b[0m\n\u001b[0;32m----> 1\u001b[0m x\u001b[38;5;241m.\u001b[39mreshape(\u001b[38;5;241m-\u001b[39m\u001b[38;5;241m1\u001b[39m,\u001b[38;5;241m1\u001b[39m)\u001b[38;5;241m-\u001b[39my\u001b[38;5;241m.\u001b[39mreshape(\u001b[38;5;241m-\u001b[39m\u001b[38;5;241m1\u001b[39m,\u001b[38;5;241m1\u001b[39m)\n",
      "\u001b[0;31mValueError\u001b[0m: operands could not be broadcast together with shapes (3,1) (2,1) "
     ]
    }
   ],
   "source": [
    "\n",
    "x.reshape(-1,1)-y.reshape(-1,1)"
   ]
  },
  {
   "cell_type": "code",
   "execution_count": 20,
   "id": "73e54041",
   "metadata": {},
   "outputs": [
    {
     "ename": "ValueError",
     "evalue": "operands could not be broadcast together with shapes (1,3) (1,2) ",
     "output_type": "error",
     "traceback": [
      "\u001b[0;31m---------------------------------------------------------------------------\u001b[0m",
      "\u001b[0;31mValueError\u001b[0m                                Traceback (most recent call last)",
      "Cell \u001b[0;32mIn[20], line 1\u001b[0m\n\u001b[0;32m----> 1\u001b[0m x\u001b[38;5;241m.\u001b[39mreshape(\u001b[38;5;241m1\u001b[39m,\u001b[38;5;241m-\u001b[39m\u001b[38;5;241m1\u001b[39m)\u001b[38;5;241m-\u001b[39my\u001b[38;5;241m.\u001b[39mreshape(\u001b[38;5;241m1\u001b[39m,\u001b[38;5;241m-\u001b[39m\u001b[38;5;241m1\u001b[39m)\n",
      "\u001b[0;31mValueError\u001b[0m: operands could not be broadcast together with shapes (1,3) (1,2) "
     ]
    }
   ],
   "source": [
    "\n",
    "x.reshape(1,-1)-y.reshape(1,-1)"
   ]
  },
  {
   "cell_type": "code",
   "execution_count": 21,
   "id": "09f94ca4",
   "metadata": {},
   "outputs": [
    {
     "data": {
      "text/plain": [
       "array([[-1, -4],\n",
       "       [ 1, -2],\n",
       "       [ 3,  0]])"
      ]
     },
     "execution_count": 21,
     "metadata": {},
     "output_type": "execute_result"
    }
   ],
   "source": [
    "x.reshape(-1,1) - y.reshape(1,-1)"
   ]
  },
  {
   "cell_type": "code",
   "execution_count": null,
   "id": "0cb84480",
   "metadata": {},
   "outputs": [
    {
     "data": {
      "text/plain": [
       "array([[-1., -4.],\n",
       "       [ 1., -2.],\n",
       "       [ 3.,  0.]])"
      ]
     },
     "execution_count": 23,
     "metadata": {},
     "output_type": "execute_result"
    }
   ],
   "source": [
    "# Column - Row\n",
    "res1 = np.zeros((len(x), len(y)))\n",
    "for i in range(len(x)):\n",
    "    for j in range(len(y)):\n",
    "        res1[i,j] = x[i] - y[j]\n",
    "\n",
    "res1\n"
   ]
  },
  {
   "cell_type": "code",
   "execution_count": null,
   "id": "b61052fd",
   "metadata": {},
   "outputs": [
    {
     "data": {
      "text/plain": [
       "array([[ 1., -1., -3.],\n",
       "       [ 4.,  2.,  0.]])"
      ]
     },
     "execution_count": 24,
     "metadata": {},
     "output_type": "execute_result"
    }
   ],
   "source": [
    "# Row - Column\n",
    "res2 = np.zeros((len(y), len(x)))\n",
    "for i in range(len(y)):\n",
    "    for j in range(len(x)):\n",
    "        res2[i,j] = y[i] - x[j]\n",
    "\n",
    "res2"
   ]
  },
  {
   "cell_type": "markdown",
   "id": "b29f1d35",
   "metadata": {},
   "source": [
    "3. The indicator function $\\mathbb{I}\\{ x \\le z \\}$ takes the value 0 if $x>z$ is false and 1 if $x \\le z$ is true.\n",
    "\n",
    "- For $y = 3$, plot the indicator function for any $z$\n",
    "- Explain how $ 1- \\mathbb{I}\\{ x \\le z \\} = \\mathbb{I}\\{ x > z \\}$. Drawing a plot might help, or looking at the definition that\n",
    "$$\n",
    "\\mathbb{I}\\{x \\le z\\} = \\begin{cases}\n",
    "0, &x > z \\\\\n",
    "1, &x \\le z\n",
    "\\end{cases}\n",
    "$$\n",
    "- The code below generates a random sample for different numbers of observations, $N = 3, 30, 300, 3000 $. Write a function to compute the ECDF curve for each sample, and plot your results.\n",
    "- Describe in your own words what happens to the ECDF qualitatively as the sample size $N$ increases"
   ]
  },
  {
   "cell_type": "code",
   "execution_count": 4,
   "id": "17ad7d01",
   "metadata": {},
   "outputs": [],
   "source": [
    "import numpy as np\n",
    "import seaborn as sns\n",
    "\n",
    "rng = np.random.default_rng(100)\n",
    "\n",
    "for N in (3,30,300,3000):\n",
    "    X = rng.normal(0,1,N)\n",
    "    # ECDF plot goes here:\n"
   ]
  },
  {
   "cell_type": "markdown",
   "id": "6c8f1ebb",
   "metadata": {},
   "source": [
    "4. A **quantile** generalizes the concept of the median so that instead of 50% of the mass below and 50% above, the $q$-quantile is the value for which $q$ proportion of the data are below that value and $(1-q)$ proportion of the data are above that value. This is a concept of **order**.\n",
    "\n",
    "- Write a function that computes any quantile without using Numpy's `np.quantile`\n",
    "- Write a function that computes the **Interquartile Range (IQR)** -- the .25 quantile and the .75 quantile, which brackets 50% of the data -- and the **whiskers**: $\\pm 1.5 \\times \\text{IQR}$ from the edges of the IQR\n",
    "- Write a function that computes a five-number summary and values for a boxplot: the minimum, the .25 quantile, the median, the .75 quantile, and the maximum, and the whiskers\n",
    "- Anything outside the whiskers is an **outlier**; write a function that returns a Boolean vector indicating if the observations are outliers.\n",
    "- For a numeric variable of your choice from one of the datasets, apply your functions from above, and compare your answers with `sns.boxplot` and `df.describe`. "
   ]
  },
  {
   "cell_type": "markdown",
   "id": "99f4c407",
   "metadata": {},
   "source": [
    "5. The kernel density estimator captures the concentration of the data around various points, and is defined as\n",
    "$$\n",
    "\\hat{f}_{N,h}(z) = \\frac{1}{N} \\sum_{i=1}^N \\frac{1}{h} k \\left( \\frac{x_i - z}{h}\\right)\n",
    "$$\n",
    "where $h$ is the bandwidth and $k()$ is one of the kernel functions from the class materials (Gaussian, Epanechnikov, uniform, triangular).\n",
    "\n",
    "- Write a function that takes the bandwidth $h$ as given, and computes and plots $\\hat{f}_{N,h}(z)$, for the kernels listed in the slides\n",
    "- Write a function that computes the plug-in bandwidth\n",
    "- Use your functions to analyze some numeric variables from a dataset of your choice, using a variety of bandwidths\n",
    "- Compare bandwidths that are greater or less than the plug-in value with the results for the plug-in value. When does the KDE appear to be overfitting? Underfitting?"
   ]
  }
 ],
 "metadata": {
  "kernelspec": {
   "display_name": "base",
   "language": "python",
   "name": "python3"
  },
  "language_info": {
   "codemirror_mode": {
    "name": "ipython",
    "version": 3
   },
   "file_extension": ".py",
   "mimetype": "text/x-python",
   "name": "python",
   "nbconvert_exporter": "python",
   "pygments_lexer": "ipython3",
   "version": "3.13.5"
  }
 },
 "nbformat": 4,
 "nbformat_minor": 5
}
